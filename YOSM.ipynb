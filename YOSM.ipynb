{
  "cells": [
    {
      "cell_type": "markdown",
      "metadata": {
        "id": "u99ppKqpVxPn"
      },
      "source": [
        "# Mount Google Drive\n"
      ]
    },
    {
      "cell_type": "code",
      "execution_count": null,
      "metadata": {
        "id": "6wvlTi3CV4YE"
      },
      "outputs": [],
      "source": [
        "from google.colab import drive\n",
        "drive.mount('/gdrive')"
      ]
    },
    {
      "cell_type": "markdown",
      "metadata": {
        "id": "ZLCE_k3JV9Ss"
      },
      "source": [
        "# Clone YOSM GitHub Repo"
      ]
    },
    {
      "cell_type": "code",
      "execution_count": null,
      "metadata": {
        "id": "GCZCaXztWDpE"
      },
      "outputs": [],
      "source": [
        "%cd /content/drive/MyDrive/\n",
        "\n",
        "!git clone https://github.com/IyanuSh/YOSM"
      ]
    },
    {
      "cell_type": "markdown",
      "metadata": {
        "id": "Xmw0jCg0WK2C"
      },
      "source": [
        "# Install Requirements"
      ]
    },
    {
      "cell_type": "code",
      "execution_count": null,
      "metadata": {
        "id": "ngOqkiDJWDwG"
      },
      "outputs": [],
      "source": [
        "#Install requirements\n",
        "!pip install transformers scikit-learn ptvsd"
      ]
    },
    {
      "cell_type": "code",
      "execution_count": null,
      "metadata": {
        "id": "8zL5cIMIWD4t"
      },
      "outputs": [],
      "source": [
        "#Install sentencepiece\n",
        "!pip install sentencepiece"
      ]
    },
    {
      "cell_type": "markdown",
      "metadata": {
        "id": "9xMI0113WoJJ"
      },
      "source": [
        "# Train Sentiment Models using scripts"
      ]
    },
    {
      "cell_type": "code",
      "execution_count": null,
      "metadata": {
        "id": "ksMor8KBWo6B"
      },
      "outputs": [],
      "source": [
        "#training afriberta on YOSM\n",
        "%cd /content/YOSM\n",
        "!bash afriberta.sh\n"
      ]
    },
    {
      "cell_type": "code",
      "execution_count": null,
      "metadata": {
        "id": "Pnmkv8k5W0ND"
      },
      "outputs": [],
      "source": [
        "%cd /content/YOSM\n",
        "!bash mbert.sh"
      ]
    },
    {
      "cell_type": "code",
      "execution_count": null,
      "metadata": {
        "id": "kVE-zGxgW0P6"
      },
      "outputs": [],
      "source": [
        "%cd /content/YOSM\n",
        "!bash yobert.sh"
      ]
    },
    {
      "cell_type": "code",
      "execution_count": null,
      "metadata": {
        "id": "3KTQHgTfW0WY"
      },
      "outputs": [],
      "source": [
        "%cd /content/YOSM\n",
        "!bash rembert.sh"
      ]
    }
  ],
  "metadata": {
    "colab": {
      "name": "YOSM.ipynb",
      "provenance": []
    },
    "kernelspec": {
      "display_name": "Python 3",
      "language": "python",
      "name": "python3"
    },
    "language_info": {
      "codemirror_mode": {
        "name": "ipython",
        "version": 3
      },
      "file_extension": ".py",
      "mimetype": "text/x-python",
      "name": "python",
      "nbconvert_exporter": "python",
      "pygments_lexer": "ipython3",
      "version": "3.9.13"
    },
    "vscode": {
      "interpreter": {
        "hash": "f70ac74e4453932e005e513638642092a6f2a01429a8c0ad93d4b3bfb9933834"
      }
    }
  },
  "nbformat": 4,
  "nbformat_minor": 0
}
