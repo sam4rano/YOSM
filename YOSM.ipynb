{
  "cells": [
    {
      "cell_type": "markdown",
      "metadata": {
        "id": "u99ppKqpVxPn"
      },
      "source": [
        "# Mount Google Drive\n"
      ]
    },
    {
      "cell_type": "code",
      "execution_count": null,
      "metadata": {
        "id": "6wvlTi3CV4YE"
      },
      "outputs": [],
      "source": [
        "from google.colab import drive\n",
        "drive.mount('/gdrive')"
      ]
    },
    {
      "cell_type": "markdown",
      "metadata": {
        "id": "ZLCE_k3JV9Ss"
      },
      "source": [
        "# Clone YOSM GitHub Repo"
      ]
    },
    {
      "cell_type": "code",
      "execution_count": null,
      "metadata": {
        "id": "GCZCaXztWDpE"
      },
      "outputs": [],
      "source": [
        "%cd /content/drive/MyDrive/\n",
        "\n",
        "!git clone https://github.com/sam4rano/YOSM.git"
      ]
    },
    {
      "cell_type": "markdown",
      "metadata": {
        "id": "Xmw0jCg0WK2C"
      },
      "source": [
        "# Install Requirements"
      ]
    },
    {
      "cell_type": "code",
      "execution_count": 1,
      "metadata": {
        "id": "ngOqkiDJWDwG"
      },
      "outputs": [
        {
          "name": "stdout",
          "output_type": "stream",
          "text": [
            "Collecting transformers\n",
            "  Downloading transformers-4.26.1-py3-none-any.whl (6.3 MB)\n",
            "     ---------------------------------------- 6.3/6.3 MB 52.4 kB/s eta 0:00:00\n",
            "Requirement already satisfied: scikit-learn in c:\\users\\sam oye\\anaconda3\\lib\\site-packages (1.0.2)\n",
            "Collecting ptvsd\n",
            "  Downloading ptvsd-4.3.2-py2.py3-none-any.whl (4.9 MB)\n",
            "     ---------------------------------------- 4.9/4.9 MB 99.8 kB/s eta 0:00:00\n",
            "Requirement already satisfied: pyyaml>=5.1 in c:\\users\\sam oye\\anaconda3\\lib\\site-packages (from transformers) (6.0)\n",
            "Requirement already satisfied: regex!=2019.12.17 in c:\\users\\sam oye\\anaconda3\\lib\\site-packages (from transformers) (2022.7.9)\n",
            "Requirement already satisfied: filelock in c:\\users\\sam oye\\anaconda3\\lib\\site-packages (from transformers) (3.6.0)\n",
            "Collecting tokenizers!=0.11.3,<0.14,>=0.11.1\n",
            "  Using cached tokenizers-0.13.2-cp39-cp39-win_amd64.whl (3.3 MB)\n",
            "Requirement already satisfied: numpy>=1.17 in c:\\users\\sam oye\\anaconda3\\lib\\site-packages (from transformers) (1.21.5)\n",
            "Requirement already satisfied: packaging>=20.0 in c:\\users\\sam oye\\anaconda3\\lib\\site-packages (from transformers) (21.3)\n",
            "Collecting huggingface-hub<1.0,>=0.11.0\n",
            "  Downloading huggingface_hub-0.12.0-py3-none-any.whl (190 kB)\n",
            "     ------------------------------------ 190.3/190.3 kB 138.8 kB/s eta 0:00:00\n",
            "Requirement already satisfied: tqdm>=4.27 in c:\\users\\sam oye\\anaconda3\\lib\\site-packages (from transformers) (4.64.1)\n",
            "Requirement already satisfied: requests in c:\\users\\sam oye\\anaconda3\\lib\\site-packages (from transformers) (2.28.1)\n",
            "Requirement already satisfied: scipy>=1.1.0 in c:\\users\\sam oye\\anaconda3\\lib\\site-packages (from scikit-learn) (1.9.1)\n",
            "Requirement already satisfied: threadpoolctl>=2.0.0 in c:\\users\\sam oye\\anaconda3\\lib\\site-packages (from scikit-learn) (2.2.0)\n",
            "Requirement already satisfied: joblib>=0.11 in c:\\users\\sam oye\\anaconda3\\lib\\site-packages (from scikit-learn) (1.1.0)\n",
            "Requirement already satisfied: typing-extensions>=3.7.4.3 in c:\\users\\sam oye\\anaconda3\\lib\\site-packages (from huggingface-hub<1.0,>=0.11.0->transformers) (4.3.0)\n",
            "Requirement already satisfied: pyparsing!=3.0.5,>=2.0.2 in c:\\users\\sam oye\\anaconda3\\lib\\site-packages (from packaging>=20.0->transformers) (3.0.9)\n",
            "Requirement already satisfied: colorama in c:\\users\\sam oye\\anaconda3\\lib\\site-packages (from tqdm>=4.27->transformers) (0.4.5)\n",
            "Requirement already satisfied: idna<4,>=2.5 in c:\\users\\sam oye\\anaconda3\\lib\\site-packages (from requests->transformers) (3.3)\n",
            "Requirement already satisfied: certifi>=2017.4.17 in c:\\users\\sam oye\\anaconda3\\lib\\site-packages (from requests->transformers) (2022.9.14)\n",
            "Requirement already satisfied: urllib3<1.27,>=1.21.1 in c:\\users\\sam oye\\anaconda3\\lib\\site-packages (from requests->transformers) (1.26.11)\n",
            "Requirement already satisfied: charset-normalizer<3,>=2 in c:\\users\\sam oye\\anaconda3\\lib\\site-packages (from requests->transformers) (2.0.4)\n",
            "Installing collected packages: tokenizers, ptvsd, huggingface-hub, transformers\n",
            "Successfully installed huggingface-hub-0.12.0 ptvsd-4.3.2 tokenizers-0.13.2 transformers-4.26.1\n"
          ]
        }
      ],
      "source": [
        "#Install requirements\n",
        "!pip install transformers scikit-learn ptvsd"
      ]
    },
    {
      "cell_type": "code",
      "execution_count": 2,
      "metadata": {
        "id": "8zL5cIMIWD4t"
      },
      "outputs": [
        {
          "name": "stdout",
          "output_type": "stream",
          "text": [
            "Collecting sentencepiece\n",
            "  Using cached sentencepiece-0.1.97-cp39-cp39-win_amd64.whl (1.1 MB)\n",
            "Installing collected packages: sentencepiece\n",
            "Successfully installed sentencepiece-0.1.97\n"
          ]
        }
      ],
      "source": [
        "#Install sentencepiece\n",
        "!pip install sentencepiece"
      ]
    },
    {
      "cell_type": "markdown",
      "metadata": {
        "id": "9xMI0113WoJJ"
      },
      "source": [
        "# Train Sentiment Models using scripts"
      ]
    },
    {
      "cell_type": "code",
      "execution_count": 6,
      "metadata": {
        "id": "ksMor8KBWo6B"
      },
      "outputs": [
        {
          "name": "stdout",
          "output_type": "stream",
          "text": [
            "[WinError 3] The system cannot find the path specified: '/content/YOSM'\n",
            "c:\\Users\\Sam Oye\\Documents\\final year project\\YOSM\n"
          ]
        }
      ],
      "source": [
        "#training afriberta on YOSM\n",
        "%cd /content/YOSM\n",
        "!bash afriberta.sh\n"
      ]
    },
    {
      "cell_type": "code",
      "execution_count": null,
      "metadata": {
        "id": "Pnmkv8k5W0ND"
      },
      "outputs": [],
      "source": [
        "%cd /content/YOSM\n",
        "!bash mbert.sh"
      ]
    },
    {
      "cell_type": "code",
      "execution_count": null,
      "metadata": {
        "id": "kVE-zGxgW0P6"
      },
      "outputs": [],
      "source": [
        "%cd /content/YOSM\n",
        "!bash yobert.sh"
      ]
    },
    {
      "cell_type": "code",
      "execution_count": null,
      "metadata": {
        "id": "3KTQHgTfW0WY"
      },
      "outputs": [],
      "source": [
        "%cd /content/YOSM\n",
        "!bash rembert.sh"
      ]
    }
  ],
  "metadata": {
    "colab": {
      "name": "YOSM.ipynb",
      "provenance": []
    },
    "kernelspec": {
      "display_name": "Python 3",
      "language": "python",
      "name": "python3"
    },
    "language_info": {
      "codemirror_mode": {
        "name": "ipython",
        "version": 3
      },
      "file_extension": ".py",
      "mimetype": "text/x-python",
      "name": "python",
      "nbconvert_exporter": "python",
      "pygments_lexer": "ipython3",
      "version": "3.9.13"
    },
    "vscode": {
      "interpreter": {
        "hash": "f70ac74e4453932e005e513638642092a6f2a01429a8c0ad93d4b3bfb9933834"
      }
    }
  },
  "nbformat": 4,
  "nbformat_minor": 0
}
